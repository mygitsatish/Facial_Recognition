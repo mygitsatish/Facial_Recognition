{
 "cells": [
  {
   "cell_type": "code",
   "execution_count": 1,
   "metadata": {},
   "outputs": [
    {
     "name": "stdout",
     "output_type": "stream",
     "text": [
      "Matched: obama.jpg\n",
      "Not matched: johnsnow.jpg\n",
      "Not matched: alex.jpg\n",
      "Not matched: biden.jpg\n"
     ]
    }
   ],
   "source": [
    "# import the libraries\n",
    "import os\n",
    "import face_recognition\n",
    "\n",
    "# make a list of all the available images\n",
    "images = os.listdir('images')\n",
    "\n",
    "# load your image\n",
    "image_to_be_matched = face_recognition.load_image_file('my_image.jpg')\n",
    "\n",
    "# encoded the loaded image into a feature vector\n",
    "image_to_be_matched_encoded = face_recognition.face_encodings(\n",
    "    image_to_be_matched)[0]\n",
    "\n",
    "# iterate over each image\n",
    "for image in images:\n",
    "    # load the image\n",
    "    current_image = face_recognition.load_image_file(\"images/\" + image)\n",
    "    # encode the loaded image into a feature vector\n",
    "    current_image_encoded = face_recognition.face_encodings(current_image)[0]\n",
    "    # match your image with the image and check if it matches\n",
    "    result = face_recognition.compare_faces(\n",
    "        [image_to_be_matched_encoded], current_image_encoded)\n",
    "    # check if it was a match\n",
    "    if result[0] == True:\n",
    "        print (\"Matched: \" + image)\n",
    "    else:\n",
    "        print (\"Not matched: \" + image)"
   ]
  },
  {
   "cell_type": "code",
   "execution_count": null,
   "metadata": {},
   "outputs": [],
   "source": []
  }
 ],
 "metadata": {
  "kernelspec": {
   "display_name": "Python 3",
   "language": "python",
   "name": "python3"
  },
  "language_info": {
   "codemirror_mode": {
    "name": "ipython",
    "version": 3
   },
   "file_extension": ".py",
   "mimetype": "text/x-python",
   "name": "python",
   "nbconvert_exporter": "python",
   "pygments_lexer": "ipython3",
   "version": "3.6.7"
  }
 },
 "nbformat": 4,
 "nbformat_minor": 2
}
